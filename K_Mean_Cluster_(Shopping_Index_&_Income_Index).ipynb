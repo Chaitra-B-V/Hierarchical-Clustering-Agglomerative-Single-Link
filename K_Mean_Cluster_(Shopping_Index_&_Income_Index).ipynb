{
  "nbformat": 4,
  "nbformat_minor": 0,
  "metadata": {
    "colab": {
      "provenance": [],
      "authorship_tag": "ABX9TyP33W9mKMtH6yxiRiKJnK8+",
      "include_colab_link": true
    },
    "kernelspec": {
      "name": "python3",
      "display_name": "Python 3"
    },
    "language_info": {
      "name": "python"
    }
  },
  "cells": [
    {
      "cell_type": "markdown",
      "metadata": {
        "id": "view-in-github",
        "colab_type": "text"
      },
      "source": [
        "<a href=\"https://colab.research.google.com/github/Chaitra-B-V/Hierarchical-Clustering-Agglomerative-Single-Link/blob/main/K_Mean_Cluster_(Shopping_Index_%26_Income_Index).ipynb\" target=\"_parent\"><img src=\"https://colab.research.google.com/assets/colab-badge.svg\" alt=\"Open In Colab\"/></a>"
      ]
    },
    {
      "cell_type": "markdown",
      "source": [
        "K-means clustering for K=3"
      ],
      "metadata": {
        "id": "kIBGQ3JKDJZ0"
      }
    },
    {
      "cell_type": "code",
      "execution_count": 2,
      "metadata": {
        "colab": {
          "base_uri": "https://localhost:8080/",
          "height": 333
        },
        "id": "qOuA4B5SApGb",
        "outputId": "27ee5096-3f92-4d9e-8324-40d830d1ac92"
      },
      "outputs": [
        {
          "output_type": "stream",
          "name": "stdout",
          "text": [
            "[[3.66666667 5.33333333]\n",
            " [7.57142857 2.        ]\n",
            " [7.25       6.5       ]]\n"
          ]
        },
        {
          "output_type": "display_data",
          "data": {
            "text/plain": [
              "<Figure size 432x288 with 1 Axes>"
            ],
            "image/png": "[encoded data removed]"
          },
          "metadata": {
            "needs_background": "light"
          }
        }
      ],
      "source": [
        "from sklearn.cluster import KMeans\n",
        "from sklearn import metrics\n",
        "import numpy as np\n",
        "import matplotlib.pyplot as plt\n",
        "x1=np.array([3,\n",
        "3,\n",
        "5,\n",
        "2,\n",
        "4,\n",
        "6,\n",
        "6,\n",
        "6,\n",
        "5,\n",
        "6,\n",
        "7,\n",
        "8,\n",
        "9,\n",
        "8,\n",
        "9,\n",
        "9,\n",
        "8])\n",
        "x2=np.array([5,\n",
        "4,\n",
        "6,\n",
        "6,\n",
        "5,\n",
        "8,\n",
        "2,\n",
        "3,\n",
        "6,\n",
        "7,\n",
        "2,\n",
        "5,\n",
        "1,\n",
        "2,\n",
        "6,\n",
        "1,\n",
        "3])\n",
        "\n",
        "plt.plot()\n",
        "X = np.array(list(zip(x1, x2))).reshape(len(x1), 2)\n",
        "colors = ['b', 'g', 'c']\n",
        "markers = ['o', 'v', 's']\n",
        "\n",
        "# KMeans algorithm \n",
        "K = 3\n",
        "kmeans_model = KMeans(n_clusters=K).fit(X)\n",
        "\n",
        "print(kmeans_model.cluster_centers_)\n",
        "centers = np.array(kmeans_model.cluster_centers_)\n",
        "\n",
        "plt.plot()\n",
        "plt.title('k means centroids')\n",
        "\n",
        "for i, l in enumerate(kmeans_model.labels_):\n",
        "    plt.plot(x1[i], x2[i], color=colors[l], marker=markers[l],ls='None')\n",
        "    plt.xlim([0, 10])\n",
        "    plt.ylim([0, 10])\n",
        "\n",
        "plt.scatter(centers[:,0], centers[:,1], marker=\"x\", color='r')\n",
        "plt.show()"
      ]
    },
    {
      "cell_type": "markdown",
      "source": [
        "K-means clustering for K=4"
      ],
      "metadata": {
        "id": "B2lWuLGgDS-v"
      }
    },
    {
      "cell_type": "code",
      "source": [
        "from sklearn.cluster import KMeans\n",
        "from sklearn import metrics\n",
        "import numpy as np\n",
        "import matplotlib.pyplot as plt\n",
        "x1=np.array([3,\n",
        "3,\n",
        "5,\n",
        "2,\n",
        "4,\n",
        "6,\n",
        "6,\n",
        "6,\n",
        "5,\n",
        "6,\n",
        "7,\n",
        "8,\n",
        "9,\n",
        "8,\n",
        "9,\n",
        "9,\n",
        "8])\n",
        "x2=np.array([5,\n",
        "4,\n",
        "6,\n",
        "6,\n",
        "5,\n",
        "8,\n",
        "2,\n",
        "3,\n",
        "6,\n",
        "7,\n",
        "2,\n",
        "5,\n",
        "1,\n",
        "2,\n",
        "6,\n",
        "1,\n",
        "3])\n",
        "\n",
        "plt.plot()\n",
        "X = np.array(list(zip(x1, x2))).reshape(len(x1), 2)\n",
        "colors = ['b', 'g', 'c']\n",
        "markers = ['o', 'v', 's']\n",
        "\n",
        "# KMeans algorithm \n",
        "K = 2\n",
        "kmeans_model = KMeans(n_clusters=K).fit(X)\n",
        "\n",
        "print(kmeans_model.cluster_centers_)\n",
        "centers = np.array(kmeans_model.cluster_centers_)\n",
        "\n",
        "plt.plot()\n",
        "plt.title('k means centroids')\n",
        "\n",
        "for i, l in enumerate(kmeans_model.labels_):\n",
        "    plt.plot(x1[i], x2[i], color=colors[l], marker=markers[l],ls='None')\n",
        "    plt.xlim([0, 10])\n",
        "    plt.ylim([0, 10])\n",
        "\n",
        "plt.scatter(centers[:,0], centers[:,1], marker=\"x\", color='r')\n",
        "plt.show()"
      ],
      "metadata": {
        "colab": {
          "base_uri": "https://localhost:8080/",
          "height": 316
        },
        "id": "DA2zXqoCDVb3",
        "outputId": "fbeefb02-523e-4a21-d13a-beb0f757caad"
      },
      "execution_count": 3,
      "outputs": [
        {
          "output_type": "stream",
          "name": "stdout",
          "text": [
            "[[7.77777778 2.77777778]\n",
            " [4.25       5.875     ]]\n"
          ]
        },
        {
          "output_type": "display_data",
          "data": {
            "text/plain": [
              "<Figure size 432x288 with 1 Axes>"
            ],
            "image/png": "[encoded data removed]"
          },
          "metadata": {
            "needs_background": "light"
          }
        }
      ]
    },
    {
      "cell_type": "code",
      "source": [
        "from sklearn.cluster import KMeans\n",
        "from sklearn import metrics\n",
        "import numpy as np\n",
        "import matplotlib.pyplot as plt\n",
        "x1=np.array([3,\n",
        "3,\n",
        "5,\n",
        "2,\n",
        "4,\n",
        "6,\n",
        "6,\n",
        "6,\n",
        "5,\n",
        "6,\n",
        "7,\n",
        "8,\n",
        "9,\n",
        "8,\n",
        "9,\n",
        "9,\n",
        "8])\n",
        "x2=np.array([5,\n",
        "4,\n",
        "6,\n",
        "6,\n",
        "5,\n",
        "8,\n",
        "2,\n",
        "3,\n",
        "6,\n",
        "7,\n",
        "2,\n",
        "5,\n",
        "1,\n",
        "2,\n",
        "6,\n",
        "1,\n",
        "3])\n",
        "\n",
        "plt.plot()\n",
        "X = np.array(list(zip(x1, x2))).reshape(len(x1), 2)\n",
        "colors = ['b', 'g', 'c']\n",
        "markers = ['o', 'v', 's']\n",
        "\n",
        "# KMeans algorithm \n",
        "K = 4\n",
        "kmeans_model = KMeans(n_clusters=K).fit(X)\n",
        "\n",
        "print(kmeans_model.cluster_centers_)\n",
        "centers = np.array(kmeans_model.cluster_centers_)\n",
        "\n",
        "plt.plot()\n",
        "plt.title('k means centroids')\n",
        "\n",
        "for i, l in enumerate(kmeans_model.labels_):\n",
        "    plt.plot(x1[i], x2[i], color=colors[l], marker=markers[l],ls='None')\n",
        "    plt.xlim([0, 10])\n",
        "    plt.ylim([0, 10])\n",
        "\n",
        "plt.scatter(centers[:,0], centers[:,1], marker=\"x\", color='r')\n",
        "plt.show()"
      ],
      "metadata": {
        "colab": {
          "base_uri": "https://localhost:8080/",
          "height": 568
        },
        "id": "NDduqf8_Dejh",
        "outputId": "5baa7062-5573-4da3-b15c-da077b987859"
      },
      "execution_count": 4,
      "outputs": [
        {
          "output_type": "stream",
          "name": "stdout",
          "text": [
            "[[7.57142857 2.        ]\n",
            " [3.         5.        ]\n",
            " [8.5        5.5       ]\n",
            " [5.5        6.75      ]]\n"
          ]
        },
        {
          "output_type": "error",
          "ename": "IndexError",
          "evalue": "ignored",
          "traceback": [
            "\u001b[0;31m---------------------------------------------------------------------------\u001b[0m",
            "\u001b[0;31mIndexError\u001b[0m                                Traceback (most recent call last)",
            "\u001b[0;32m<ipython-input-4-b5a1b4b810e1>\u001b[0m in \u001b[0;36m<module>\u001b[0;34m\u001b[0m\n\u001b[1;32m     54\u001b[0m \u001b[0;34m\u001b[0m\u001b[0m\n\u001b[1;32m     55\u001b[0m \u001b[0;32mfor\u001b[0m \u001b[0mi\u001b[0m\u001b[0;34m,\u001b[0m \u001b[0ml\u001b[0m \u001b[0;32min\u001b[0m \u001b[0menumerate\u001b[0m\u001b[0;34m(\u001b[0m\u001b[0mkmeans_model\u001b[0m\u001b[0;34m.\u001b[0m\u001b[0mlabels_\u001b[0m\u001b[0;34m)\u001b[0m\u001b[0;34m:\u001b[0m\u001b[0;34m\u001b[0m\u001b[0;34m\u001b[0m\u001b[0m\n\u001b[0;32m---> 56\u001b[0;31m     \u001b[0mplt\u001b[0m\u001b[0;34m.\u001b[0m\u001b[0mplot\u001b[0m\u001b[0;34m(\u001b[0m\u001b[0mx1\u001b[0m\u001b[0;34m[\u001b[0m\u001b[0mi\u001b[0m\u001b[0;34m]\u001b[0m\u001b[0;34m,\u001b[0m \u001b[0mx2\u001b[0m\u001b[0;34m[\u001b[0m\u001b[0mi\u001b[0m\u001b[0;34m]\u001b[0m\u001b[0;34m,\u001b[0m \u001b[0mcolor\u001b[0m\u001b[0;34m=\u001b[0m\u001b[0mcolors\u001b[0m\u001b[0;34m[\u001b[0m\u001b[0ml\u001b[0m\u001b[0;34m]\u001b[0m\u001b[0;34m,\u001b[0m \u001b[0mmarker\u001b[0m\u001b[0;34m=\u001b[0m\u001b[0mmarkers\u001b[0m\u001b[0;34m[\u001b[0m\u001b[0ml\u001b[0m\u001b[0;34m]\u001b[0m\u001b[0;34m,\u001b[0m\u001b[0mls\u001b[0m\u001b[0;34m=\u001b[0m\u001b[0;34m'None'\u001b[0m\u001b[0;34m)\u001b[0m\u001b[0;34m\u001b[0m\u001b[0;34m\u001b[0m\u001b[0m\n\u001b[0m\u001b[1;32m     57\u001b[0m     \u001b[0mplt\u001b[0m\u001b[0;34m.\u001b[0m\u001b[0mxlim\u001b[0m\u001b[0;34m(\u001b[0m\u001b[0;34m[\u001b[0m\u001b[0;36m0\u001b[0m\u001b[0;34m,\u001b[0m \u001b[0;36m10\u001b[0m\u001b[0;34m]\u001b[0m\u001b[0;34m)\u001b[0m\u001b[0;34m\u001b[0m\u001b[0;34m\u001b[0m\u001b[0m\n\u001b[1;32m     58\u001b[0m     \u001b[0mplt\u001b[0m\u001b[0;34m.\u001b[0m\u001b[0mylim\u001b[0m\u001b[0;34m(\u001b[0m\u001b[0;34m[\u001b[0m\u001b[0;36m0\u001b[0m\u001b[0;34m,\u001b[0m \u001b[0;36m10\u001b[0m\u001b[0;34m]\u001b[0m\u001b[0;34m)\u001b[0m\u001b[0;34m\u001b[0m\u001b[0;34m\u001b[0m\u001b[0m\n",
            "\u001b[0;31mIndexError\u001b[0m: list index out of range"
          ]
        },
        {
          "output_type": "display_data",
          "data": {
            "text/plain": [
              "<Figure size 432x288 with 1 Axes>"
            ],
            "image/png": "[encoded data removed]"
          },
          "metadata": {
            "needs_background": "light"
          }
        }
      ]
    }
  ]
}